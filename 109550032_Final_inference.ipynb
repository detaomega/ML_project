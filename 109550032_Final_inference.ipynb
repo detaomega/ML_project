{
 "cells": [
  {
   "attachments": {},
   "cell_type": "markdown",
   "metadata": {},
   "source": [
    "# Import some package"
   ]
  },
  {
   "cell_type": "code",
   "execution_count": 1,
   "metadata": {},
   "outputs": [],
   "source": [
    "import pandas as pd\n",
    "import numpy as np\n",
    "import csv\n",
    "from sklearn.impute import SimpleImputer\n",
    "os.environ['CUDA_VISIBLE_DEVICES'] = '-1'"
   ]
  },
  {
   "cell_type": "code",
   "execution_count": 2,
   "metadata": {},
   "outputs": [],
   "source": [
    "test = pd.read_csv(\"./data/test.csv\")\n",
    "test_x = test.drop(['id'], axis=1).drop(['product_code'], axis=1)\n",
    "test_x = test_x.to_numpy()\n",
    "for i in range(test_x.shape[0]):\n",
    "    test_x[i][1] = test_x[i][1].split('_')[-1]\n",
    "    test_x[i][2] = test_x[i][2].split('_')[-1]\n",
    "\n",
    "imputer = SimpleImputer(missing_values=np.nan, strategy='median')\n",
    "test_x = test_x.astype(np.float32)\n",
    "test_imp = imputer.fit(test_x)\n",
    "test_x = test_imp.transform(test_x)"
   ]
  },
  {
   "cell_type": "code",
   "execution_count": 4,
   "metadata": {},
   "outputs": [
    {
     "name": "stdout",
     "output_type": "stream",
     "text": [
      "104/104 [==============================] - 0s 815us/step\n"
     ]
    }
   ],
   "source": [
    "from keras.models import load_model\n",
    "model = load_model('model.h5')\n",
    "y_pred = model.predict(x=test_x, batch_size=200)\n",
    "answer = np.array([])\n",
    "for pred in y_pred:\n",
    "    pred = pred.ravel()\n",
    "    answer = np.append(answer, pred)\n",
    "submission = pd.read_csv(\"./dataset/sample_submission.csv\")\n",
    "submission[\"failure\"] = answer\n",
    "submission.reset_index(drop=True).to_csv(\"result.csv\", index=False)"
   ]
  }
 ],
 "metadata": {
  "kernelspec": {
   "display_name": "ML_env",
   "language": "python",
   "name": "python3"
  },
  "language_info": {
   "codemirror_mode": {
    "name": "ipython",
    "version": 3
   },
   "file_extension": ".py",
   "mimetype": "text/x-python",
   "name": "python",
   "nbconvert_exporter": "python",
   "pygments_lexer": "ipython3",
   "version": "3.8.15 (default, Nov 24 2022, 15:19:38) \n[GCC 11.2.0]"
  },
  "orig_nbformat": 4,
  "vscode": {
   "interpreter": {
    "hash": "79739b80f00fdb5462f1399fc4e068e36f289ad4850e1ff21da381ac2e86cb03"
   }
  }
 },
 "nbformat": 4,
 "nbformat_minor": 2
}
