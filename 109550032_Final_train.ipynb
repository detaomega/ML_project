{
 "cells": [
  {
   "attachments": {},
   "cell_type": "markdown",
   "metadata": {},
   "source": [
    "## import some package"
   ]
  },
  {
   "cell_type": "code",
   "execution_count": 5,
   "metadata": {},
   "outputs": [],
   "source": [
    "import pandas as pd\n",
    "import numpy as np\n",
    "from sklearn.impute import SimpleImputer\n",
    "from keras.models import Sequential\n",
    "from keras.layers.core import Dense, Dropout, Activation\n",
    "os.environ['CUDA_VISIBLE_DEVICES'] = '-1'"
   ]
  },
  {
   "attachments": {},
   "cell_type": "markdown",
   "metadata": {},
   "source": [
    "## load training dataset "
   ]
  },
  {
   "cell_type": "code",
   "execution_count": 2,
   "metadata": {},
   "outputs": [],
   "source": [
    "\n",
    "train = pd.read_csv(\"./dataset/train.csv\")\n",
    "train_x = train.drop(['id'], axis=1).drop(['product_code'], axis=1).drop(['failure'], axis=1)\n",
    "train_x = train_x.to_numpy()\n",
    "train_y = train[['failure']]\n",
    "train_y = train_y.to_numpy()\n",
    "for i in range(train_x.shape[0]):\n",
    "    train_x[i][1] = train_x[i][1].split('_')[-1]\n",
    "    train_x[i][2] = train_x[i][2].split('_')[-1]\n",
    "train_x = train_x.astype(np.float32)\n",
    "imputer = SimpleImputer(missing_values=np.nan, strategy='median')\n",
    "train_imp = imputer.fit(train_x)\n",
    "train_x = train_imp.transform(train_x)\n",
    "train_y = train_y.astype(np.float32)\n"
   ]
  },
  {
   "attachments": {},
   "cell_type": "markdown",
   "metadata": {},
   "source": [
    "## Use DNN model training"
   ]
  },
  {
   "cell_type": "code",
   "execution_count": 4,
   "metadata": {},
   "outputs": [
    {
     "name": "stdout",
     "output_type": "stream",
     "text": [
      "Model: \"sequential_1\"\n",
      "_________________________________________________________________\n",
      " Layer (type)                Output Shape              Param #   \n",
      "=================================================================\n",
      " dense_3 (Dense)             (None, 92)                2208      \n",
      "                                                                 \n",
      " activation_3 (Activation)   (None, 92)                0         \n",
      "                                                                 \n",
      " dropout_2 (Dropout)         (None, 92)                0         \n",
      "                                                                 \n",
      " dense_4 (Dense)             (None, 92)                8556      \n",
      "                                                                 \n",
      " activation_4 (Activation)   (None, 92)                0         \n",
      "                                                                 \n",
      " dropout_3 (Dropout)         (None, 92)                0         \n",
      "                                                                 \n",
      " dense_5 (Dense)             (None, 1)                 93        \n",
      "                                                                 \n",
      " activation_5 (Activation)   (None, 1)                 0         \n",
      "                                                                 \n",
      "=================================================================\n",
      "Total params: 10,857\n",
      "Trainable params: 10,857\n",
      "Non-trainable params: 0\n",
      "_________________________________________________________________\n"
     ]
    }
   ],
   "source": [
    "model = Sequential()\n",
    "model.add(Dense(92, input_dim=23))\n",
    "model.add(Activation('relu'))\n",
    "model.add(Dropout(0.3))\n",
    "model.add(Dense(92))\n",
    "model.add(Activation('relu'))\n",
    "model.add(Dropout(0.3))\n",
    "model.add(Dense(1))\n",
    "model.add(Activation('sigmoid'))\n",
    "model.compile(loss='binary_crossentropy', optimizer='adam', metrics=['accuracy'])\n",
    "model.summary()\n",
    "model.fit(x=train_x, y=train_y,  epochs=200, batch_size=200, verbose=2)\n",
    "model.save('model.h5')"
   ]
  }
 ],
 "metadata": {
  "kernelspec": {
   "display_name": "ML_env",
   "language": "python",
   "name": "python3"
  },
  "language_info": {
   "codemirror_mode": {
    "name": "ipython",
    "version": 3
   },
   "file_extension": ".py",
   "mimetype": "text/x-python",
   "name": "python",
   "nbconvert_exporter": "python",
   "pygments_lexer": "ipython3",
   "version": "3.8.15"
  },
  "orig_nbformat": 4,
  "vscode": {
   "interpreter": {
    "hash": "79739b80f00fdb5462f1399fc4e068e36f289ad4850e1ff21da381ac2e86cb03"
   }
  }
 },
 "nbformat": 4,
 "nbformat_minor": 2
}
