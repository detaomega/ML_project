{
 "cells": [
  {
   "cell_type": "code",
   "execution_count": 1,
   "metadata": {},
   "outputs": [],
   "source": [
    "import pandas as pd\n",
    "import numpy as np\n",
    "from sklearn.impute import SimpleImputer"
   ]
  },
  {
   "cell_type": "code",
   "execution_count": null,
   "metadata": {},
   "outputs": [],
   "source": [
    "train = pd.read_csv(\"./dataset/train.csv\")\n",
    "train_x = train.drop(['id'], axis=1).drop(['product_code'], axis=1).drop(['failure'], axis=1)\n",
    "train_x = train_x.to_numpy()\n",
    "train_y = train[['failure']]\n",
    "train_y = train_y.to_numpy()\n",
    "for i in range(train_x.shape[0]):\n",
    "    train_x[i][1] = train_x[i][1].split('_')[-1]\n",
    "    train_x[i][2] = train_x[i][2].split('_')[-1]\n",
    "train_x = train_x.astype(np.float32)\n",
    "imputer = SimpleImputer(missing_values=np.nan, strategy='median')\n",
    "train_imp = imputer.fit(train_x)\n",
    "train_x = train_imp.transform(train_x)\n",
    "train_y = train_y.astype(np.float32)"
   ]
  },
  {
   "cell_type": "code",
   "execution_count": null,
   "metadata": {},
   "outputs": [],
   "source": [
    "test = pd.read_csv(\"./dataset/test.csv\")\n",
    "test_x = test.drop(['id'], axis=1).drop(['product_code'], axis=1)\n",
    "test_x = test_x.to_numpy()\n",
    "for i in range(test_x.shape[0]):\n",
    "    test_x[i][1] = test_x[i][1].split('_')[-1]\n",
    "    test_x[i][2] = test_x[i][2].split('_')[-1]\n",
    "\n",
    "imputer = SimpleImputer(missing_values=np.nan, strategy='median')\n",
    "test_x = test_x.astype(np.float32)\n",
    "test_imp = imputer.fit(test_x)\n",
    "test_x = test_imp.transform(test_x)"
   ]
  },
  {
   "cell_type": "code",
   "execution_count": null,
   "metadata": {},
   "outputs": [],
   "source": [
    "from sklearn.linear_model import LogisticRegression\n",
    "Logistic = LogisticRegression(max_iter=1000)\n",
    "Logistic.fit(train_x, train_y)\n",
    "y_pred = Logistic.predict(test_x)\n",
    "print(y_pred.shape)\n"
   ]
  }
 ],
 "metadata": {
  "kernelspec": {
   "display_name": "Python 3",
   "language": "python",
   "name": "python3"
  },
  "language_info": {
   "codemirror_mode": {
    "name": "ipython",
    "version": 3
   },
   "file_extension": ".py",
   "mimetype": "text/x-python",
   "name": "python",
   "nbconvert_exporter": "python",
   "pygments_lexer": "ipython3",
   "version": "3.6.8 (v3.6.8:3c6b436a57, Dec 24 2018, 02:04:31) \n[GCC 4.2.1 Compatible Apple LLVM 6.0 (clang-600.0.57)]"
  },
  "orig_nbformat": 4,
  "vscode": {
   "interpreter": {
    "hash": "aee8b7b246df8f9039afb4144a1f6fd8d2ca17a180786b69acc140d282b71a49"
   }
  }
 },
 "nbformat": 4,
 "nbformat_minor": 2
}
