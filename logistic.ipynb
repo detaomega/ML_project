{
 "cells": [
  {
   "cell_type": "code",
   "execution_count": 27,
   "metadata": {},
   "outputs": [],
   "source": [
    "import pandas as pd\n",
    "import numpy as np\n",
    "from sklearn.impute import SimpleImputer"
   ]
  },
  {
   "cell_type": "code",
   "execution_count": 28,
   "metadata": {},
   "outputs": [],
   "source": [
    "train = pd.read_csv(\"./dataset/train.csv\")\n",
    "train_x = train.drop(['id'], axis=1).drop(['product_code'], axis=1).drop(['failure'], axis=1)\n",
    "train_x = train_x.to_numpy()\n",
    "train_y = train[['failure']]\n",
    "train_y = train_y.to_numpy()\n",
    "for i in range(train_x.shape[0]):\n",
    "    train_x[i][1] = train_x[i][1].split('_')[-1]\n",
    "    train_x[i][2] = train_x[i][2].split('_')[-1]\n",
    "train_x = train_x.astype(np.float32)\n",
    "imputer = SimpleImputer(missing_values=np.nan, strategy='median')\n",
    "train_imp = imputer.fit(train_x)\n",
    "train_x = train_imp.transform(train_x)\n",
    "train_y = train_y.astype(np.float32)"
   ]
  },
  {
   "cell_type": "code",
   "execution_count": 29,
   "metadata": {},
   "outputs": [],
   "source": [
    "test = pd.read_csv(\"./dataset/test.csv\")\n",
    "test_x = test.drop(['id'], axis=1).drop(['product_code'], axis=1)\n",
    "test_x = test_x.to_numpy()\n",
    "for i in range(test_x.shape[0]):\n",
    "    test_x[i][1] = test_x[i][1].split('_')[-1]\n",
    "    test_x[i][2] = test_x[i][2].split('_')[-1]\n",
    "\n",
    "imputer = SimpleImputer(missing_values=np.nan, strategy='median')\n",
    "test_x = test_x.astype(np.float32)\n",
    "test_imp = imputer.fit(test_x)\n",
    "test_x = test_imp.transform(test_x)"
   ]
  },
  {
   "cell_type": "code",
   "execution_count": 30,
   "metadata": {},
   "outputs": [
    {
     "name": "stderr",
     "output_type": "stream",
     "text": [
      "/home/detaomega/anaconda3/envs/ML_env/lib/python3.8/site-packages/sklearn/utils/validation.py:1141: DataConversionWarning: A column-vector y was passed when a 1d array was expected. Please change the shape of y to (n_samples, ), for example using ravel().\n",
      "  y = column_or_1d(y, warn=True)\n"
     ]
    }
   ],
   "source": [
    "from sklearn.linear_model import LogisticRegression\n",
    "Logistic = LogisticRegression(max_iter=1000)\n",
    "Logistic.fit(train_x, train_y)\n",
    "y_pred = Logistic.predict_proba(test_x)\n",
    "ans = []\n",
    "for i in range(y_pred.shape[0]):\n",
    "    ans.append(1 - y_pred[i][0])\n",
    "ans = np.array(ans)\n",
    "submission = pd.read_csv(\"./dataset/sample_submission.csv\")\n",
    "submission[\"failure\"] = ans\n",
    "submission.reset_index(drop=True).to_csv(\"result.csv\", index=False)"
   ]
  }
 ],
 "metadata": {
  "kernelspec": {
   "display_name": "ML_env",
   "language": "python",
   "name": "python3"
  },
  "language_info": {
   "codemirror_mode": {
    "name": "ipython",
    "version": 3
   },
   "file_extension": ".py",
   "mimetype": "text/x-python",
   "name": "python",
   "nbconvert_exporter": "python",
   "pygments_lexer": "ipython3",
   "version": "3.8.15"
  },
  "orig_nbformat": 4,
  "vscode": {
   "interpreter": {
    "hash": "79739b80f00fdb5462f1399fc4e068e36f289ad4850e1ff21da381ac2e86cb03"
   }
  }
 },
 "nbformat": 4,
 "nbformat_minor": 2
}
